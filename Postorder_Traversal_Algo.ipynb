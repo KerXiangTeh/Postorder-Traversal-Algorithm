{
  "nbformat": 4,
  "nbformat_minor": 0,
  "metadata": {
    "colab": {
      "provenance": [],
      "authorship_tag": "ABX9TyO53efMZziB2t78DPQv10/X",
      "include_colab_link": true
    },
    "kernelspec": {
      "name": "python3",
      "display_name": "Python 3"
    },
    "language_info": {
      "name": "python"
    }
  },
  "cells": [
    {
      "cell_type": "markdown",
      "metadata": {
        "id": "view-in-github",
        "colab_type": "text"
      },
      "source": [
        "<a href=\"https://colab.research.google.com/github/KerXiangTeh/Postorder-Traversal-Algorithm/blob/main/Postorder_Traversal_Algo.ipynb\" target=\"_parent\"><img src=\"https://colab.research.google.com/assets/colab-badge.svg\" alt=\"Open In Colab\"/></a>"
      ]
    },
    {
      "cell_type": "markdown",
      "source": [
        "This is an exercise to showcase a simple implimentation of the postorder traversal algorithm using Python. This technique follows the Left Right Root policy. "
      ],
      "metadata": {
        "id": "hifkBzam3oN2"
      }
    },
    {
      "cell_type": "markdown",
      "source": [
        "*Data Structure*"
      ],
      "metadata": {
        "id": "VrXGnV8G377a"
      }
    },
    {
      "cell_type": "code",
      "execution_count": 2,
      "metadata": {
        "id": "klMYZR9e3kn5"
      },
      "outputs": [],
      "source": [
        "class Node: \n",
        "  def __init__(self, value):\n",
        "    self.value = value\n",
        "    self.left = None\n",
        "    self.right = None"
      ]
    },
    {
      "cell_type": "markdown",
      "source": [
        "*Traversal Function*"
      ],
      "metadata": {
        "id": "S_p57Dwn4ObL"
      }
    },
    {
      "cell_type": "code",
      "source": [
        "def postorder(node):\n",
        "  if node is not None:\n",
        "    postorder(node.left)\n",
        "    postorder(node.right)\n",
        "    print(node.value)"
      ],
      "metadata": {
        "id": "WkerNzjo4Tew"
      },
      "execution_count": 3,
      "outputs": []
    },
    {
      "cell_type": "markdown",
      "source": [
        "*example usage*"
      ],
      "metadata": {
        "id": "cJfLtWm34eO4"
      }
    },
    {
      "cell_type": "code",
      "source": [
        "root = Node(1)\n",
        "root.left = Node(2)\n",
        "root.right = Node(3)\n",
        "root.left.left = Node(4)\n",
        "root.left.right = Node(5)\n",
        "root.right.left = Node(6)\n",
        "root.right.right = Node(7)\n",
        "\n",
        "# prints 4 5 2 6 7 3 1\n",
        "postorder(root)"
      ],
      "metadata": {
        "colab": {
          "base_uri": "https://localhost:8080/"
        },
        "id": "DRUAJnmu4f6k",
        "outputId": "e8fd68a9-0288-48f2-c51a-95b790b6e58d"
      },
      "execution_count": 4,
      "outputs": [
        {
          "output_type": "stream",
          "name": "stdout",
          "text": [
            "4\n",
            "5\n",
            "2\n",
            "6\n",
            "7\n",
            "3\n",
            "1\n"
          ]
        }
      ]
    }
  ]
}